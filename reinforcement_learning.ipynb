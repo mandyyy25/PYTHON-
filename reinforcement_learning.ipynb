{
  "nbformat": 4,
  "nbformat_minor": 0,
  "metadata": {
    "colab": {
      "provenance": [],
      "authorship_tag": "ABX9TyNavqLljZeQa5YMnXB0Hd4N",
      "include_colab_link": true
    },
    "kernelspec": {
      "name": "python3",
      "display_name": "Python 3"
    },
    "language_info": {
      "name": "python"
    }
  },
  "cells": [
    {
      "cell_type": "markdown",
      "metadata": {
        "id": "view-in-github",
        "colab_type": "text"
      },
      "source": [
        "<a href=\"https://colab.research.google.com/github/mandyyy25/PYTHON-/blob/main/reinforcement_learning.ipynb\" target=\"_parent\"><img src=\"https://colab.research.google.com/assets/colab-badge.svg\" alt=\"Open In Colab\"/></a>"
      ]
    },
    {
      "cell_type": "markdown",
      "source": [
        "### Este é um Algoritmo de aprendizado por reforço usando a ferramenta Q-leaning. Eu criei o que chamei de robÔ trading, um robo que vende e compra ações com base no contexto e oportunidade. Ele vai partir do princípio que possuo um saldo de 1000 reais para investir e ao final vai me dar o lucro que suas ações de compra, venda ou/e manutenção tiveram.\n",
        "### Para esse Exemplo utilizei dados de ações verídicas da apple.\n",
        "### Ao final nota-se que o robô precisou de 1 evento (sendo eles comprar, vender ou manter) para gerar o lucro final de 47.\n",
        "### Esse tipo de análise é mais avançada e utiliza-se de uma arquitetura de machine learning mais complexa, se você quiser mais detalhes de como efetuei cada etapa, entre em contato comigo que lhe explicarei passo a passo."
      ],
      "metadata": {
        "id": "riXzeFUdlF-d"
      }
    },
    {
      "cell_type": "code",
      "execution_count": 40,
      "metadata": {
        "id": "CrXap6sjq8SQ"
      },
      "outputs": [],
      "source": [
        "import numpy as np\n",
        "import pandas as pd\n",
        "import random"
      ]
    },
    {
      "cell_type": "code",
      "source": [
        "df = pd.read_csv('dataset.csv')"
      ],
      "metadata": {
        "id": "QW8MnW836HoV"
      },
      "execution_count": 41,
      "outputs": []
    },
    {
      "cell_type": "code",
      "source": [
        "df.head()"
      ],
      "metadata": {
        "colab": {
          "base_uri": "https://localhost:8080/",
          "height": 206
        },
        "id": "zcpOManP6SvN",
        "outputId": "1964105c-80cd-4883-ea4d-cc0328f0c9b1"
      },
      "execution_count": 42,
      "outputs": [
        {
          "output_type": "execute_result",
          "data": {
            "text/plain": [
              "         Date   AAPL.Open   AAPL.High    AAPL.Low  AAPL.Close  AAPL.Volume  \\\n",
              "0  2015-02-17  127.489998  128.880005  126.919998  127.830002     63152400   \n",
              "1  2015-02-18  127.629997  128.779999  127.449997  128.720001     44891700   \n",
              "2  2015-02-19  128.479996  129.029999  128.330002  128.449997     37362400   \n",
              "3  2015-02-20  128.619995  129.500000  128.050003  129.500000     48948400   \n",
              "4  2015-02-23  130.020004  133.000000  129.660004  133.000000     70974100   \n",
              "\n",
              "   AAPL.Adjusted          dn        mavg          up   direction  \n",
              "0     122.905254  106.741052  117.927667  129.114281  Increasing  \n",
              "1     123.760965  107.842423  118.940333  130.038244  Increasing  \n",
              "2     123.501363  108.894245  119.889167  130.884089  Decreasing  \n",
              "3     124.510914  109.785449  120.763500  131.741551  Increasing  \n",
              "4     127.876074  110.372516  121.720167  133.067817  Increasing  "
            ],
            "text/html": [
              "\n",
              "  <div id=\"df-9e2b73ad-a38e-4211-82f1-641d3e882f34\" class=\"colab-df-container\">\n",
              "    <div>\n",
              "<style scoped>\n",
              "    .dataframe tbody tr th:only-of-type {\n",
              "        vertical-align: middle;\n",
              "    }\n",
              "\n",
              "    .dataframe tbody tr th {\n",
              "        vertical-align: top;\n",
              "    }\n",
              "\n",
              "    .dataframe thead th {\n",
              "        text-align: right;\n",
              "    }\n",
              "</style>\n",
              "<table border=\"1\" class=\"dataframe\">\n",
              "  <thead>\n",
              "    <tr style=\"text-align: right;\">\n",
              "      <th></th>\n",
              "      <th>Date</th>\n",
              "      <th>AAPL.Open</th>\n",
              "      <th>AAPL.High</th>\n",
              "      <th>AAPL.Low</th>\n",
              "      <th>AAPL.Close</th>\n",
              "      <th>AAPL.Volume</th>\n",
              "      <th>AAPL.Adjusted</th>\n",
              "      <th>dn</th>\n",
              "      <th>mavg</th>\n",
              "      <th>up</th>\n",
              "      <th>direction</th>\n",
              "    </tr>\n",
              "  </thead>\n",
              "  <tbody>\n",
              "    <tr>\n",
              "      <th>0</th>\n",
              "      <td>2015-02-17</td>\n",
              "      <td>127.489998</td>\n",
              "      <td>128.880005</td>\n",
              "      <td>126.919998</td>\n",
              "      <td>127.830002</td>\n",
              "      <td>63152400</td>\n",
              "      <td>122.905254</td>\n",
              "      <td>106.741052</td>\n",
              "      <td>117.927667</td>\n",
              "      <td>129.114281</td>\n",
              "      <td>Increasing</td>\n",
              "    </tr>\n",
              "    <tr>\n",
              "      <th>1</th>\n",
              "      <td>2015-02-18</td>\n",
              "      <td>127.629997</td>\n",
              "      <td>128.779999</td>\n",
              "      <td>127.449997</td>\n",
              "      <td>128.720001</td>\n",
              "      <td>44891700</td>\n",
              "      <td>123.760965</td>\n",
              "      <td>107.842423</td>\n",
              "      <td>118.940333</td>\n",
              "      <td>130.038244</td>\n",
              "      <td>Increasing</td>\n",
              "    </tr>\n",
              "    <tr>\n",
              "      <th>2</th>\n",
              "      <td>2015-02-19</td>\n",
              "      <td>128.479996</td>\n",
              "      <td>129.029999</td>\n",
              "      <td>128.330002</td>\n",
              "      <td>128.449997</td>\n",
              "      <td>37362400</td>\n",
              "      <td>123.501363</td>\n",
              "      <td>108.894245</td>\n",
              "      <td>119.889167</td>\n",
              "      <td>130.884089</td>\n",
              "      <td>Decreasing</td>\n",
              "    </tr>\n",
              "    <tr>\n",
              "      <th>3</th>\n",
              "      <td>2015-02-20</td>\n",
              "      <td>128.619995</td>\n",
              "      <td>129.500000</td>\n",
              "      <td>128.050003</td>\n",
              "      <td>129.500000</td>\n",
              "      <td>48948400</td>\n",
              "      <td>124.510914</td>\n",
              "      <td>109.785449</td>\n",
              "      <td>120.763500</td>\n",
              "      <td>131.741551</td>\n",
              "      <td>Increasing</td>\n",
              "    </tr>\n",
              "    <tr>\n",
              "      <th>4</th>\n",
              "      <td>2015-02-23</td>\n",
              "      <td>130.020004</td>\n",
              "      <td>133.000000</td>\n",
              "      <td>129.660004</td>\n",
              "      <td>133.000000</td>\n",
              "      <td>70974100</td>\n",
              "      <td>127.876074</td>\n",
              "      <td>110.372516</td>\n",
              "      <td>121.720167</td>\n",
              "      <td>133.067817</td>\n",
              "      <td>Increasing</td>\n",
              "    </tr>\n",
              "  </tbody>\n",
              "</table>\n",
              "</div>\n",
              "    <div class=\"colab-df-buttons\">\n",
              "\n",
              "  <div class=\"colab-df-container\">\n",
              "    <button class=\"colab-df-convert\" onclick=\"convertToInteractive('df-9e2b73ad-a38e-4211-82f1-641d3e882f34')\"\n",
              "            title=\"Convert this dataframe to an interactive table.\"\n",
              "            style=\"display:none;\">\n",
              "\n",
              "  <svg xmlns=\"http://www.w3.org/2000/svg\" height=\"24px\" viewBox=\"0 -960 960 960\">\n",
              "    <path d=\"M120-120v-720h720v720H120Zm60-500h600v-160H180v160Zm220 220h160v-160H400v160Zm0 220h160v-160H400v160ZM180-400h160v-160H180v160Zm440 0h160v-160H620v160ZM180-180h160v-160H180v160Zm440 0h160v-160H620v160Z\"/>\n",
              "  </svg>\n",
              "    </button>\n",
              "\n",
              "  <style>\n",
              "    .colab-df-container {\n",
              "      display:flex;\n",
              "      gap: 12px;\n",
              "    }\n",
              "\n",
              "    .colab-df-convert {\n",
              "      background-color: #E8F0FE;\n",
              "      border: none;\n",
              "      border-radius: 50%;\n",
              "      cursor: pointer;\n",
              "      display: none;\n",
              "      fill: #1967D2;\n",
              "      height: 32px;\n",
              "      padding: 0 0 0 0;\n",
              "      width: 32px;\n",
              "    }\n",
              "\n",
              "    .colab-df-convert:hover {\n",
              "      background-color: #E2EBFA;\n",
              "      box-shadow: 0px 1px 2px rgba(60, 64, 67, 0.3), 0px 1px 3px 1px rgba(60, 64, 67, 0.15);\n",
              "      fill: #174EA6;\n",
              "    }\n",
              "\n",
              "    .colab-df-buttons div {\n",
              "      margin-bottom: 4px;\n",
              "    }\n",
              "\n",
              "    [theme=dark] .colab-df-convert {\n",
              "      background-color: #3B4455;\n",
              "      fill: #D2E3FC;\n",
              "    }\n",
              "\n",
              "    [theme=dark] .colab-df-convert:hover {\n",
              "      background-color: #434B5C;\n",
              "      box-shadow: 0px 1px 3px 1px rgba(0, 0, 0, 0.15);\n",
              "      filter: drop-shadow(0px 1px 2px rgba(0, 0, 0, 0.3));\n",
              "      fill: #FFFFFF;\n",
              "    }\n",
              "  </style>\n",
              "\n",
              "    <script>\n",
              "      const buttonEl =\n",
              "        document.querySelector('#df-9e2b73ad-a38e-4211-82f1-641d3e882f34 button.colab-df-convert');\n",
              "      buttonEl.style.display =\n",
              "        google.colab.kernel.accessAllowed ? 'block' : 'none';\n",
              "\n",
              "      async function convertToInteractive(key) {\n",
              "        const element = document.querySelector('#df-9e2b73ad-a38e-4211-82f1-641d3e882f34');\n",
              "        const dataTable =\n",
              "          await google.colab.kernel.invokeFunction('convertToInteractive',\n",
              "                                                    [key], {});\n",
              "        if (!dataTable) return;\n",
              "\n",
              "        const docLinkHtml = 'Like what you see? Visit the ' +\n",
              "          '<a target=\"_blank\" href=https://colab.research.google.com/notebooks/data_table.ipynb>data table notebook</a>'\n",
              "          + ' to learn more about interactive tables.';\n",
              "        element.innerHTML = '';\n",
              "        dataTable['output_type'] = 'display_data';\n",
              "        await google.colab.output.renderOutput(dataTable, element);\n",
              "        const docLink = document.createElement('div');\n",
              "        docLink.innerHTML = docLinkHtml;\n",
              "        element.appendChild(docLink);\n",
              "      }\n",
              "    </script>\n",
              "  </div>\n",
              "\n",
              "\n",
              "<div id=\"df-6d1c212a-d9cc-4263-b8b8-a30933d2daba\">\n",
              "  <button class=\"colab-df-quickchart\" onclick=\"quickchart('df-6d1c212a-d9cc-4263-b8b8-a30933d2daba')\"\n",
              "            title=\"Suggest charts\"\n",
              "            style=\"display:none;\">\n",
              "\n",
              "<svg xmlns=\"http://www.w3.org/2000/svg\" height=\"24px\"viewBox=\"0 0 24 24\"\n",
              "     width=\"24px\">\n",
              "    <g>\n",
              "        <path d=\"M19 3H5c-1.1 0-2 .9-2 2v14c0 1.1.9 2 2 2h14c1.1 0 2-.9 2-2V5c0-1.1-.9-2-2-2zM9 17H7v-7h2v7zm4 0h-2V7h2v10zm4 0h-2v-4h2v4z\"/>\n",
              "    </g>\n",
              "</svg>\n",
              "  </button>\n",
              "\n",
              "<style>\n",
              "  .colab-df-quickchart {\n",
              "      --bg-color: #E8F0FE;\n",
              "      --fill-color: #1967D2;\n",
              "      --hover-bg-color: #E2EBFA;\n",
              "      --hover-fill-color: #174EA6;\n",
              "      --disabled-fill-color: #AAA;\n",
              "      --disabled-bg-color: #DDD;\n",
              "  }\n",
              "\n",
              "  [theme=dark] .colab-df-quickchart {\n",
              "      --bg-color: #3B4455;\n",
              "      --fill-color: #D2E3FC;\n",
              "      --hover-bg-color: #434B5C;\n",
              "      --hover-fill-color: #FFFFFF;\n",
              "      --disabled-bg-color: #3B4455;\n",
              "      --disabled-fill-color: #666;\n",
              "  }\n",
              "\n",
              "  .colab-df-quickchart {\n",
              "    background-color: var(--bg-color);\n",
              "    border: none;\n",
              "    border-radius: 50%;\n",
              "    cursor: pointer;\n",
              "    display: none;\n",
              "    fill: var(--fill-color);\n",
              "    height: 32px;\n",
              "    padding: 0;\n",
              "    width: 32px;\n",
              "  }\n",
              "\n",
              "  .colab-df-quickchart:hover {\n",
              "    background-color: var(--hover-bg-color);\n",
              "    box-shadow: 0 1px 2px rgba(60, 64, 67, 0.3), 0 1px 3px 1px rgba(60, 64, 67, 0.15);\n",
              "    fill: var(--button-hover-fill-color);\n",
              "  }\n",
              "\n",
              "  .colab-df-quickchart-complete:disabled,\n",
              "  .colab-df-quickchart-complete:disabled:hover {\n",
              "    background-color: var(--disabled-bg-color);\n",
              "    fill: var(--disabled-fill-color);\n",
              "    box-shadow: none;\n",
              "  }\n",
              "\n",
              "  .colab-df-spinner {\n",
              "    border: 2px solid var(--fill-color);\n",
              "    border-color: transparent;\n",
              "    border-bottom-color: var(--fill-color);\n",
              "    animation:\n",
              "      spin 1s steps(1) infinite;\n",
              "  }\n",
              "\n",
              "  @keyframes spin {\n",
              "    0% {\n",
              "      border-color: transparent;\n",
              "      border-bottom-color: var(--fill-color);\n",
              "      border-left-color: var(--fill-color);\n",
              "    }\n",
              "    20% {\n",
              "      border-color: transparent;\n",
              "      border-left-color: var(--fill-color);\n",
              "      border-top-color: var(--fill-color);\n",
              "    }\n",
              "    30% {\n",
              "      border-color: transparent;\n",
              "      border-left-color: var(--fill-color);\n",
              "      border-top-color: var(--fill-color);\n",
              "      border-right-color: var(--fill-color);\n",
              "    }\n",
              "    40% {\n",
              "      border-color: transparent;\n",
              "      border-right-color: var(--fill-color);\n",
              "      border-top-color: var(--fill-color);\n",
              "    }\n",
              "    60% {\n",
              "      border-color: transparent;\n",
              "      border-right-color: var(--fill-color);\n",
              "    }\n",
              "    80% {\n",
              "      border-color: transparent;\n",
              "      border-right-color: var(--fill-color);\n",
              "      border-bottom-color: var(--fill-color);\n",
              "    }\n",
              "    90% {\n",
              "      border-color: transparent;\n",
              "      border-bottom-color: var(--fill-color);\n",
              "    }\n",
              "  }\n",
              "</style>\n",
              "\n",
              "  <script>\n",
              "    async function quickchart(key) {\n",
              "      const quickchartButtonEl =\n",
              "        document.querySelector('#' + key + ' button');\n",
              "      quickchartButtonEl.disabled = true;  // To prevent multiple clicks.\n",
              "      quickchartButtonEl.classList.add('colab-df-spinner');\n",
              "      try {\n",
              "        const charts = await google.colab.kernel.invokeFunction(\n",
              "            'suggestCharts', [key], {});\n",
              "      } catch (error) {\n",
              "        console.error('Error during call to suggestCharts:', error);\n",
              "      }\n",
              "      quickchartButtonEl.classList.remove('colab-df-spinner');\n",
              "      quickchartButtonEl.classList.add('colab-df-quickchart-complete');\n",
              "    }\n",
              "    (() => {\n",
              "      let quickchartButtonEl =\n",
              "        document.querySelector('#df-6d1c212a-d9cc-4263-b8b8-a30933d2daba button');\n",
              "      quickchartButtonEl.style.display =\n",
              "        google.colab.kernel.accessAllowed ? 'block' : 'none';\n",
              "    })();\n",
              "  </script>\n",
              "</div>\n",
              "\n",
              "    </div>\n",
              "  </div>\n"
            ],
            "application/vnd.google.colaboratory.intrinsic+json": {
              "type": "dataframe",
              "variable_name": "df",
              "summary": "{\n  \"name\": \"df\",\n  \"rows\": 506,\n  \"fields\": [\n    {\n      \"column\": \"Date\",\n      \"properties\": {\n        \"dtype\": \"object\",\n        \"num_unique_values\": 506,\n        \"samples\": [\n          \"2015-10-22\",\n          \"2016-03-18\",\n          \"2017-01-27\"\n        ],\n        \"semantic_type\": \"\",\n        \"description\": \"\"\n      }\n    },\n    {\n      \"column\": \"AAPL.Open\",\n      \"properties\": {\n        \"dtype\": \"number\",\n        \"std\": 11.287489720825835,\n        \"min\": 90.0,\n        \"max\": 135.669998,\n        \"num_unique_values\": 470,\n        \"samples\": [\n          127.389999,\n          126.699997,\n          124.470001\n        ],\n        \"semantic_type\": \"\",\n        \"description\": \"\"\n      }\n    },\n    {\n      \"column\": \"AAPL.High\",\n      \"properties\": {\n        \"dtype\": \"number\",\n        \"std\": 11.251891538928536,\n        \"min\": 91.669998,\n        \"max\": 136.270004,\n        \"num_unique_values\": 471,\n        \"samples\": [\n          127.559998,\n          129.690002,\n          127.510002\n        ],\n        \"semantic_type\": \"\",\n        \"description\": \"\"\n      }\n    },\n    {\n      \"column\": \"AAPL.Low\",\n      \"properties\": {\n        \"dtype\": \"number\",\n        \"std\": 11.263687041328406,\n        \"min\": 89.470001,\n        \"max\": 134.839996,\n        \"num_unique_values\": 472,\n        \"samples\": [\n          125.629997,\n          127.849998,\n          124.330002\n        ],\n        \"semantic_type\": \"\",\n        \"description\": \"\"\n      }\n    },\n    {\n      \"column\": \"AAPL.Close\",\n      \"properties\": {\n        \"dtype\": \"number\",\n        \"std\": 11.244743817549013,\n        \"min\": 90.339996,\n        \"max\": 135.509995,\n        \"num_unique_values\": 468,\n        \"samples\": [\n          125.010002,\n          130.059998,\n          127.349998\n        ],\n        \"semantic_type\": \"\",\n        \"description\": \"\"\n      }\n    },\n    {\n      \"column\": \"AAPL.Volume\",\n      \"properties\": {\n        \"dtype\": \"number\",\n        \"std\": 19852531,\n        \"min\": 11475900,\n        \"max\": 162206300,\n        \"num_unique_values\": 506,\n        \"samples\": [\n          41654100,\n          44205200,\n          20562900\n        ],\n        \"semantic_type\": \"\",\n        \"description\": \"\"\n      }\n    },\n    {\n      \"column\": \"AAPL.Adjusted\",\n      \"properties\": {\n        \"dtype\": \"number\",\n        \"std\": 10.5375292379096,\n        \"min\": 89.00837,\n        \"max\": 135.509995,\n        \"num_unique_values\": 496,\n        \"samples\": [\n          116.13648,\n          125.475139,\n          93.797377\n        ],\n        \"semantic_type\": \"\",\n        \"description\": \"\"\n      }\n    },\n    {\n      \"column\": \"dn\",\n      \"properties\": {\n        \"dtype\": \"number\",\n        \"std\": 11.095804388543048,\n        \"min\": 85.50885848,\n        \"max\": 127.2892578,\n        \"num_unique_values\": 506,\n        \"samples\": [\n          107.9920835,\n          93.95272123,\n          115.1902357\n        ],\n        \"semantic_type\": \"\",\n        \"description\": \"\"\n      }\n    },\n    {\n      \"column\": \"mavg\",\n      \"properties\": {\n        \"dtype\": \"number\",\n        \"std\": 10.595315032061858,\n        \"min\": 94.04716603,\n        \"max\": 129.845,\n        \"num_unique_values\": 506,\n        \"samples\": [\n          111.4936666,\n          100.6471668,\n          118.9356667\n        ],\n        \"semantic_type\": \"\",\n        \"description\": \"\"\n      }\n    },\n    {\n      \"column\": \"up\",\n      \"properties\": {\n        \"dtype\": \"number\",\n        \"std\": 10.670751948917067,\n        \"min\": 97.57272125,\n        \"max\": 138.8053662,\n        \"num_unique_values\": 506,\n        \"samples\": [\n          114.9952498,\n          107.3416124,\n          122.6810976\n        ],\n        \"semantic_type\": \"\",\n        \"description\": \"\"\n      }\n    },\n    {\n      \"column\": \"direction\",\n      \"properties\": {\n        \"dtype\": \"category\",\n        \"num_unique_values\": 2,\n        \"samples\": [\n          \"Decreasing\",\n          \"Increasing\"\n        ],\n        \"semantic_type\": \"\",\n        \"description\": \"\"\n      }\n    }\n  ]\n}"
            }
          },
          "metadata": {},
          "execution_count": 42
        }
      ]
    },
    {
      "cell_type": "code",
      "source": [
        "precos = df['AAPL.Close'].values"
      ],
      "metadata": {
        "id": "sj5ZKP9T6NuW"
      },
      "execution_count": 43,
      "outputs": []
    },
    {
      "cell_type": "code",
      "source": [
        "num_episodios = 1000\n",
        "alfa = 0.1\n",
        "gama = 0.1\n",
        "epsilon = 0.1"
      ],
      "metadata": {
        "id": "UCvNbqPp6uA8"
      },
      "execution_count": 44,
      "outputs": []
    },
    {
      "cell_type": "code",
      "source": [
        "acoes = ('comprar', 'vender', 'manter')\n",
        "saldo_inicial = 1000\n",
        "num_acao_inicial = 0"
      ],
      "metadata": {
        "id": "fHQEUGjZ63vi"
      },
      "execution_count": 45,
      "outputs": []
    },
    {
      "cell_type": "code",
      "source": [
        "def executar_acao (estado, acao, saldo, num_acoes, preco):\n",
        "  # ação de comprar:\n",
        "  if acao == 0:\n",
        "    if saldo >= preco:\n",
        "      num_acoes += 1\n",
        "      saldo -= preco\n",
        "\n",
        "  # ação de vender\n",
        "  elif acao == 1:\n",
        "    if num_acoes > 0:\n",
        "      saldo += preco\n",
        "      num_acoes -= 1\n",
        "\n",
        "  lucro = saldo + num_acoes * preco - saldo_inicial\n",
        "  return (saldo, num_acoes, lucro)"
      ],
      "metadata": {
        "id": "2ogofx8wxJvZ"
      },
      "execution_count": 46,
      "outputs": []
    },
    {
      "cell_type": "code",
      "source": [
        "Q_table = np.zeros((len(precos), len(acoes)))"
      ],
      "metadata": {
        "id": "cymW24_c2W4s"
      },
      "execution_count": 47,
      "outputs": []
    },
    {
      "cell_type": "code",
      "source": [
        "for i in range(num_episodios):\n",
        "  saldo = saldo_inicial\n",
        "\n",
        "  num_acoes = num_acao_inicial\n",
        "\n",
        "  for i, preco in enumerate(precos[:-1]):\n",
        "\n",
        "    estado = i\n",
        "\n",
        "    if np.random.random() < epsilon:\n",
        "      acao = random.choice(range(len(acoes)))\n",
        "    else:\n",
        "      acao = np.argmax(Q_table[estado])\n",
        "\n",
        "    saldo, num_acoes, lucro = executar_acao(estado, acao, saldo, num_acoes, preco)\n",
        "    prox_estado = i + 1\n",
        "\n",
        "    Q_table[estado, acao] += alfa * (lucro + gama * np.max(Q_table[prox_estado]) - Q_table[estado][acao])"
      ],
      "metadata": {
        "id": "-vikfVOX7OO2"
      },
      "execution_count": 48,
      "outputs": []
    },
    {
      "cell_type": "code",
      "source": [
        "saldo = saldo_inicial\n",
        "num_acoes = num_acao_inicial"
      ],
      "metadata": {
        "id": "E51nkn_YNHHo"
      },
      "execution_count": 49,
      "outputs": []
    },
    {
      "cell_type": "code",
      "source": [
        "print (\"\\nExecutando Agente...\")\n",
        "for i, preco in enumerate(precos[:-1]):\n",
        "    estado = i\n",
        "    acao = np.argmax(Q_table[estado])\n",
        "    saldo, num_acoes, _ = executar_acao(estado, acao, saldo, num_acoes, preco)\n",
        "print (\"\\nExecução Concluída...\")"
      ],
      "metadata": {
        "colab": {
          "base_uri": "https://localhost:8080/"
        },
        "id": "xafcJUxNOBw-",
        "outputId": "ffd2fc6f-2e12-411e-9652-0309abe4afa0"
      },
      "execution_count": 57,
      "outputs": [
        {
          "output_type": "stream",
          "name": "stdout",
          "text": [
            "\n",
            "Executando Agente...\n",
            "\n",
            "Execução Concluída...\n"
          ]
        }
      ]
    },
    {
      "cell_type": "code",
      "source": [
        "print(num_acoes)"
      ],
      "metadata": {
        "colab": {
          "base_uri": "https://localhost:8080/"
        },
        "id": "9SRedEOFO9-Z",
        "outputId": "42ec5623-5a82-4f0d-e8b7-a152c51bedb4"
      },
      "execution_count": 58,
      "outputs": [
        {
          "output_type": "stream",
          "name": "stdout",
          "text": [
            "1\n"
          ]
        }
      ]
    },
    {
      "cell_type": "code",
      "source": [
        "precos[-1]"
      ],
      "metadata": {
        "colab": {
          "base_uri": "https://localhost:8080/"
        },
        "id": "2YcrjkOWPDKW",
        "outputId": "43e70349-b364-4728-d670-83572f57eaba"
      },
      "execution_count": 59,
      "outputs": [
        {
          "output_type": "execute_result",
          "data": {
            "text/plain": [
              "135.350006"
            ]
          },
          "metadata": {},
          "execution_count": 59
        }
      ]
    },
    {
      "cell_type": "code",
      "source": [
        "saldo += num_acoes * precos[-1]\n",
        "lucro = saldo - saldo_inicial\n",
        "lucro_final = round(lucro, 2)\n",
        "print(\"Nosso lucro foi de:  \", lucro_final)"
      ],
      "metadata": {
        "colab": {
          "base_uri": "https://localhost:8080/"
        },
        "id": "tQjGtLSTPTZc",
        "outputId": "7c20ba70-9c0d-416e-d105-6102911e582b"
      },
      "execution_count": 60,
      "outputs": [
        {
          "output_type": "stream",
          "name": "stdout",
          "text": [
            "Nosso lucro foi de:   47.08\n"
          ]
        }
      ]
    }
  ]
}